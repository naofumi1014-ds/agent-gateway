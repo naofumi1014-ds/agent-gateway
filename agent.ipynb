{
 "cells": [
  {
   "cell_type": "code",
   "execution_count": 1,
   "id": "95c01f8c",
   "metadata": {},
   "outputs": [
    {
     "name": "stderr",
     "output_type": "stream",
     "text": [
      "2025-05-06 21:41:42,452 - snowflake.core._options - INFO - checked whether snowflake-snowpark-python is available: True\n",
      "2025-05-06 21:41:44,793 - snowflake.connector.connection - INFO - Snowflake Connector for Python Version: 3.14.1, Python Version: 3.10.13, Platform: Linux-5.15.167.4-microsoft-standard-WSL2-x86_64-with-glibc2.39\n",
      "2025-05-06 21:41:44,796 - snowflake.connector.connection - INFO - Connecting to GLOBAL Snowflake domain\n",
      "2025-05-06 21:42:05,609 - src.search.preprocess - INFO - Cortex Searchの作成が完了しました\n",
      "2025-05-06 21:42:05,613 - src.search.preprocess - INFO - Cortex Searchの作成が完了しました\n",
      "2025-05-06 21:42:05,618 - snowflake.connector.connection - INFO - Snowflake Connector for Python Version: 3.14.1, Python Version: 3.10.13, Platform: Linux-5.15.167.4-microsoft-standard-WSL2-x86_64-with-glibc2.39\n",
      "2025-05-06 21:42:05,619 - snowflake.connector.connection - INFO - Connecting to GLOBAL Snowflake domain\n",
      "2025-05-06 21:42:06,362 - snowflake.snowpark.session - INFO - Snowpark Session information: \n",
      "\"version\" : 1.30.0,\n",
      "\"python.version\" : 3.10.13,\n",
      "\"python.connector.version\" : 3.14.1,\n",
      "\"python.connector.session.id\" : 35541726253392178,\n",
      "\"os.name\" : Linux\n",
      "\n",
      "2025-05-06 21:42:06,364 - snowflake.core._root - INFO - New root object was created for <snowflake.snowpark.session.Session object at 0x7fa2ab821660>\n",
      "2025-05-06 21:42:06,366 - snowflake.core._root - INFO - Querying the server for client info\n",
      "2025-05-06 21:42:06,614 - snowflake.core._internal.telemetry - INFO - telemetry client created for <snowflake.connector.connection.SnowflakeConnection object at 0x7fa2ac3e9c90>, telemetry enabled: True\n",
      "2025-05-06 21:42:06,620 - snowflake.core._root - INFO - Snowflake Core version: 1.4.0, on Python 3.10.13, on platform: Linux-5.15.167.4-microsoft-standard-WSL2-x86_64-with-glibc2.39\n",
      "2025-05-06 21:42:06,621 - snowflake.core._root - INFO - Parameter SnowApiParameter.USE_CLIENT_RETRY: None\n",
      "2025-05-06 21:42:06,622 - snowflake.core._root - INFO - Parameter SnowApiParameter.PRINT_VERBOSE_STACK_TRACE: None\n",
      "2025-05-06 21:42:06,623 - snowflake.core._root - INFO - Parameter SnowApiParameter.FIX_HOSTNAME: true\n",
      "2025-05-06 21:42:06,625 - snowflake.core._root - INFO - Parameter SnowApiParameter.MAX_THREADS: None\n",
      "2025-05-06 21:42:06,627 - src.search.preprocess - INFO - Cortex Search Preprocessが完了しました\n",
      "2025-05-06 21:42:06,632 - snowflake.connector.connection - INFO - Snowflake Connector for Python Version: 3.14.1, Python Version: 3.10.13, Platform: Linux-5.15.167.4-microsoft-standard-WSL2-x86_64-with-glibc2.39\n",
      "2025-05-06 21:42:06,634 - snowflake.connector.connection - INFO - Connecting to GLOBAL Snowflake domain\n",
      "2025-05-06 21:42:10,186 - src.analyst.preprocess - INFO - Azure OpenAIを有効化しました\n",
      "2025-05-06 21:42:10,188 - src.analyst.preprocess - INFO - Cortex Analyst Preprocessが完了しました\n",
      "2025-05-06 21:42:10,190 - snowflake.connector.connection - INFO - Snowflake Connector for Python Version: 3.14.1, Python Version: 3.10.13, Platform: Linux-5.15.167.4-microsoft-standard-WSL2-x86_64-with-glibc2.39\n",
      "2025-05-06 21:42:10,191 - snowflake.connector.connection - INFO - Connecting to GLOBAL Snowflake domain\n",
      "2025-05-06 21:42:10,985 - snowflake.snowpark.session - INFO - Snowpark Session information: \n",
      "\"version\" : 1.30.0,\n",
      "\"python.version\" : 3.10.13,\n",
      "\"python.connector.version\" : 3.14.1,\n",
      "\"python.connector.session.id\" : 35541726253400262,\n",
      "\"os.name\" : Linux\n",
      "\n"
     ]
    }
   ],
   "source": [
    "from src.agent.agent import AgentGateway\n",
    "\n",
    "agent = AgentGateway()"
   ]
  },
  {
   "cell_type": "code",
   "execution_count": 2,
   "id": "7dc9c0e7",
   "metadata": {},
   "outputs": [
    {
     "name": "stderr",
     "output_type": "stream",
     "text": [
      "2025-05-06 21:42:17,745 - src.agent.agent - INFO - {'semantic_model': 'work_record.yaml', 'stage': 'WORK_RECORD_STAGE', 'service_topic': 'サンプル総研の従業員の4月の勤怠に関する集計データ', 'data_description': '４月の従業員の勤怠データ（部署、勤務時間、残業時間、勤務理由）', 'snowflake_connection': <snowflake.snowpark.session.Session object at 0x7fa2aba8fb50>, 'max_results': 5}\n"
     ]
    },
    {
     "name": "stdout",
     "output_type": "stream",
     "text": [
      "2025-05-06 21:42:17,748 - AgentGatewayLogger - INFO - Cortex Search Tool successfully initialized\n",
      "2025-05-06 21:42:17,750 - AgentGatewayLogger - INFO - Cortex Analyst Tool successfully initialized\n",
      "2025-05-06 21:42:19,626 - AgentGatewayLogger - INFO - Cortex gateway successfully initialized\n",
      "2025-05-06 21:42:24,043 - AgentGatewayLogger - INFO - running work_record_cortexanalyst task\n",
      "2025-05-06 21:42:24,046 - AgentGatewayLogger - INFO - running work_rules_of_employment_search_svc_cortexsearch task\n",
      "2025-05-06 21:42:40,487 - AgentGatewayLogger - INFO - Replanning....\n",
      "2025-05-06 21:42:47,601 - AgentGatewayLogger - INFO - running work_record_cortexanalyst task\n"
     ]
    },
    {
     "name": "stderr",
     "output_type": "stream",
     "text": [
      "2025-05-06 21:43:10,510 - src.agent.agent - INFO - {'output': '4月の36協定に関する超過状況は以下の通りです：\\n1. 月45時間超過している社員（12名）：\\n- 井上翔（52時間）\\n- 松田和也（51時間）\\n- 山田太郎、加藤理央、川口雅人、黒田千尋、吉村大輝（各50時間）\\n- 三浦亮太、松本樹（各48時間）\\n- 沢田剛志（47時間）\\n- 高橋健、大塚理恵（各46時間）\\n\\n2. 月100時間に近い社員：該当者なし\\n\\n※これらの社員については、健康管理の観点から労働時間の管理を徹底する必要があります。', 'sources': [{'tool_type': 'cortex_search', 'tool_name': 'work_rules_of_employment_search_svc_cortexsearch', 'metadata': [{'file_name': 'src/search/data/モデル就業規則.pdf', 'text': '- 36 - \\n \\n⑩ 限度時間を超えた労働に係る割増賃金率 \\n⑪ 限度時間を超えて労働させる場合における手続 \\nと定められています（労基法第３６条第２項、労基則第１７条）。 \\n７ 年少者（１８歳未満の者）については、一定の場合を除き、労基法により時間外労働、\\n休日労働やいわゆる変形労働時間制により労働させることはできません（労基法第６０\\n条）。また、原則として午後１０時から翌日５時までの深夜時間帯に労働させることもで\\nきません（労基法第６１条）。 \\n８ 使用者は、妊産婦から請求があった場合は、時間外、休日及び深夜労働をさせること\\nはできません（労基法第６６条）。また、請求をし、又は請求により労働しなかったこと\\nを理由として解雇その他不利益な取扱いをしてはいけません（均等法第９条第３項）。 \\n \\n【第２２条  勤務間インターバル制度】 \\n１ 労働時間等の設定の改善に関する特別措置法（労働時間等設定改善法）が改正され、\\n２０１９年（平成３１年）４月１日から、勤務間インターバル制度の導入が事業主の努\\n力義務となりました。 \\n２ 勤務間インターバル制度とは、終業時刻から次の始業時刻の間に、一定時間以上の休\\n息時間（インターバル時間）を設けることで、従業員の生活時間や睡眠時間を確保しよ\\nうとするものです。 \\n３ 一定のインターバル時間を確保することで、従業員が十分な生活時間や睡眠時間を確\\n保でき、ワーク・ライフ・バランスを保ちながら働き続けることができます。 \\n４ インターバル時間の満了時刻が、次の勤務の所定労働時間以降に及ぶ場合の取扱いに\\nついては、以下の方法が考えられ、就業規則の規程例は以下のとおりです。 \\n５ このほか、必要に応じ、勤務間インターバル制度に関する申請手続や労働時間の取扱\\nい等についても就業規則等の規定の整備を行う必要があります。 \\n \\n［例１］ インターバル時間と翌日の所定労働時間が重複する部分を働いたものとみなす\\n場合 \\n \\n（勤務間インターバル） \\n第２２条  いかなる場合も、従業員ごとに１日の勤務終了後、次の勤務の開始までに少\\nなくとも、○時間の継続した休息時間を与える。ただし、災害その他避けることがで\\nきない場合は、この限りではない。', 'chunk_id': '41'}, {'file_name': 'src/search/data/モデル就業規則.pdf', 'text': '- 38 - \\n \\n第５章 休暇等  \\n \\n年次有給休暇等法定の休暇のみならず、会社で設けている休暇については就業規則に必\\nず定めることが必要です。 \\n \\n（年次有給休暇） \\n第２３条  採用日から６か月間継続勤務し、所定労働日の８割以上出勤した労働者に対\\nしては、１０日の年次有給休暇を与える。その後１年間継続勤務するごとに、当該１\\n年間において所定労働日の８割以上出勤した労働者に対しては、下の表のとおり勤続\\n期間に応じた日数の年次有給休暇を与える。 \\n \\n勤続期間 6 か月 \\n１年    \\n6 か月 \\n2 年  \\n6 か月 \\n3 年 \\n6 か月 \\n4 年 \\n6 か月 \\n5 年  \\n6 か月 \\n6 年 \\n6 か月以上 \\n付与日数 10 日 11 日 12 日 14 日 16 日 18 日 20 日 \\n \\n２ 前項の規定にかかわらず、週所定労働時間３０時間未満であり、かつ、週所定労働\\n日数が４日以下（週以外の期間によって所定労働日数を定める労働者については年間\\n所定労働日数が２１６日以下）の労働者に対しては、下の表のとおり所定労働日数及\\nび勤続期間に応じた日数の年次有給休暇を与える。 \\n \\n週所定\\n労働\\n日数 \\n1 年間の \\n所定労働日数 \\n勤    続    期    間 \\n6か月 \\n1 年 \\n6か月 \\n2 年 \\n6か月 \\n3 年 \\n6か月 \\n4 年 \\n6か月 \\n5 年 \\n6か月 \\n6 年 \\n6 か月 \\n以上 \\n4 日 169 日～216 日 7 日 8 日 9 日 10 日 12 日 13 日 15 日 \\n3 日 121 日～168 日 5 日 6 日 6 日 8 日 9 日 10 日 11 日 \\n2 日 73 日～120日 3 日 4 日 4 日 5 日 6 日 6 日 7 日 \\n1 日 48 日～72日 1 日 2 日 2 日 2 日 3 日 3 日 3 日 \\n \\n３ 第１項又は第２項の年次有給休暇は、労働者があらかじめ請求する時季に取得させ\\nる。ただし、労働者が請求した時季に年次有給休暇を取得させることが事業の正常な\\n運営を妨げる場合は、他の時季に取得させることがある。 \\n４ 前項の規定にかかわらず、労働者代表との書面による協定により、各労働者の有す\\nる年次有給休暇日数のうち５日を超える部分について、あらかじめ時季を指定して取\\n得させることがある。', 'chunk_id': '43'}, {'file_name': 'src/search/data/モデル就業規則.pdf', 'text': '- 35 - \\n \\n時間外労働は１か月４５時間以内、１年３６０時間以内（１年単位の変形労働時間制が\\n適用される労働者については１か月４２時間以内、１年３２０時間以内）としなければな\\nらなりません。 \\n②限度時間を超えて労働させる場合 \\n 臨時的に限度時間を超えて労働させる必要がある場合には、①の限度時間を超えて労働\\nさせることが可能ですが、その場合にも、１か月の時間外労働と休日労働を合算した時間\\nについて１００時間未満、１年の時間外労働について７２０時間以内としなければなりま\\nせん。また、限度時間を超えることができる月数（１年について６か月以内）を定めなけ\\nればなりません。 \\n③時間外労働及び休日労働の限度 \\n 三六協定で定める時間数の範囲内であっても、時間外労働及び休日労働の合計の時間数\\nについては、１か月１００時間未満、２～６か月平均 80 時間以内としなければなりませ\\nん。 \\n \\n※ 次の事業・業務については、２０２４（令和６）年３月３１日までの間、時間外労働\\nの上限規制の適用が猶予されています。 \\n ・工作物の建設等の事業 \\n ・自動車の運転の業務 \\n ・医業に従事する医師 \\n ・鹿児島県及び沖縄県における砂糖製造事業 \\n \\n※ 新たな技術、商品または役務の研究開発業務については、上限規制の適用が除外され\\nています。 \\n \\n６ 三六協定で協定すべき内容は \\n① 時間外又は休日労働をさせることができることとされる労働者の範囲 \\n② 対象期間（１年間に限る） \\n③ 時間外又は休日の労働をさせる必要のある具体的事由 \\n④ １日、１か月、１年のそれぞれの期間について法定労働時間を超えて労働させるこ\\nとができる時間又は休日労働の日数 \\n⑤ 協定の有効期間 \\n⑥ 対象期間（１年間）の起算日 \\n⑦ 時間外労働及び休日労働の合計が、単月１００時間未満及び２～６か月平均８０\\n時間以内であること \\n⑧ 限度時間を超えて労働させる場合の具体的事由 \\n⑨ 限度時間を超えて労働させる労働者に対する健康福祉確保措置', 'chunk_id': '40'}, {'file_name': 'src/search/data/モデル就業規則.pdf', 'text': '23 24 25 26 27 28 29 27 28 29 30 31 24 25 26 27 28 29 30\\n30 31\\n10月 日 月 火 水 木 金 土 11月 日 月 火 水 木 金 土 12月 日 月 火 水 木 金 土\\n1 2 3 4 5 6 7 1 2 3 4 1 2\\n8 9 10 11 12 13 14 5 6 7 8 9 10 11 3 4 5 6 7 8 9\\n15 16 17 18 19 20 21 12 13 14 15 16 17 18 10 11 12 13 14 15 16\\n22 23 24 25 26 27 28 19 20 21 22 23 24 25 17 18 19 20 21 22 23\\n29 30 31 26 27 28 29 30 24 25 26 27 28 29 30\\n31\\n１月 日 月 火 水 木 金 土 ２月 日 月 火 水 木 金 土 ３月 日 月 火 水 木 金 土\\n1 2 3 4 5 6 1 2 3 1 2 3\\n7 8 9 10 11 12 13 4 5 6 7 8 9 10 4 5 6 7 8 9 10\\n14 15 16 17 18 19 20 11 12 13 14 15 16 17 11 12 13 14 15 16 17\\n21 22 23 24 25 26 27 18 19 20 21 22 23 24 18 19 20 21 22 23 24\\n28 29 30 31 25 26 27 28 25 26 27 28 29 30 31\\n \\n \\n \\n \\n（時間外及び休日労働等） \\n第２１条  業務の都合により、第１９条の所定労働時間を超え、又は第２０条の所定休\\n日に労働させることがある。 \\n２ 前項の場合、法定労働時間を超える労働又は法定休日における労働については、あ\\nらかじめ会社は労働者の過半数代表者と書面による労使協定を締結するとともに、こ\\nれを所轄の労働基準監督署長に届け出るものとする。 \\n３ 妊娠中の女性、産後１年を経過しない女性労働者（以下「妊産婦」という。）であっ', 'chunk_id': '37'}, {'file_name': 'src/search/data/モデル就業規則.pdf', 'text': '- 52 - \\n \\n（２）日給制の場合 \\n① 時間外労働の割増賃金 \\n（時間外労働が 1 か月 45時間以下の部分） \\n                                     \\n        日給        役付手当＋技能・資格手当＋精勤手当  \\n               ＋                      \\n     １日の所定労働時間数      １か月の平均所定労働時間数        \\n                                     \\n             × 1.25 × 時間外労働の時間数 \\n \\n \\n(時間外労働が1 か月 45時間超～60 時間以下の部分） \\n                                    \\n       日給        役付手当＋技能・資格手当＋精勤手当  \\n              ＋                        \\n   １日の所定労働時間数      １か月の平均所定労働時間数        \\n                                    \\n             × 1.35 × 時間外労働の時間数 \\n \\n \\n（時間外労働が 1 か月 60時間を超える部分) \\n                                     \\n        日給        役付手当＋技能・資格手当＋精勤手当  \\n               ＋                       \\n    １日の所定労働時間数      １か月の平均所定労働時間数        \\n                                     \\n             × 1.50 × 時間外労働の時間数 \\n \\n \\n(時間外労働が1 年360時間を超える部分） \\n                                    \\n       日給        役付手当＋技能・資格手当＋精勤手当  \\n              ＋  \\n１日の所定労働時間数      １か月の平均所定労働時間数', 'chunk_id': '60'}, {'file_name': 'src/search/data/モデル就業規則.pdf', 'text': '１か月の平均所定労働時間数        \\n                             \\n         × 1.50 × 時間外労働の時間数 \\n \\n（時間外労働が 1年 360時間を超える部分) \\n                             \\n          役付手当＋技能・資格手当＋精勤手当  \\n   時間給 ＋                     \\n           １か月の平均所定労働時間数        \\n                             \\n         × 1.40 × 時間外労働の時間数', 'chunk_id': '63'}, {'file_name': 'src/search/data/モデル就業規則.pdf', 'text': '- 32 - \\n \\nの所定労働時間に応じて下表の年間休日を確保することが必要です。例えば、１日８時\\n間の所定労働時間で１年単位の変形労働時間制を採用した場合、年間休日を１０５日以\\n上としなければ週４０時間労働制の枠内に収まらないこととなります。 \\n４ 労使協定の労働者代表の選出方法等については、本規程例第１９条の解説を参照して\\nください。 \\n \\n【参考】 \\n 週４０時間労働制に適合するために確保が必要な年間休日日数は、次の表のとおりと   \\nなります。 \\n \\n \\n        年間暦日数 \\n \\n１日の所定労働時間数 \\n３６５日 \\n３６６日 \\n（うるう年） \\n \\n  年間休日日数  \\n \\n \\n９ 時 間 \\n８ 時 間 \\n７時間 50分 \\n７時間 45分 \\n7 時間30分 \\n7 時間15分 \\n７ 時 間 \\n１３４日 \\n１０５日 \\n ９９日 \\n９６日 \\n８７日 \\n※８５日 \\n※８５日 \\n１３４日 \\n１０５日 \\n１００日 \\n ９７日 \\n８８日 \\n※８６日 \\n※８６日 \\n \\n \\n－計算方法－ \\n（１日の所定労働時間×７日－40時間）×365 日（又は 366日） \\n１日の所定労働時間×７日 \\n \\n※ １年単位の変形労働時間制における１年間の労働日数の限度は２８０日なので、標記\\nの休日を確保する必要があります。 \\n \\n \\n５ １年単位の変形労働時間制は、恒常的な時間外労働時間及び休日労働はないことを前\\n提とした制度です。したがって、突発的に時間外労働等がある場合、当然労基法第３６\\n条に基づいて時間外労働等に関する協定の締結及びその届出をするとともに、該当する\\n労働者に対し割増賃金の支払が必要となります。 \\n≦年間休日日数', 'chunk_id': '35'}, {'file_name': 'src/search/data/モデル就業規則.pdf', 'text': '- 63 - \\n \\n条第２項）。 \\n \\n \\n \\n（賃金の支払と控除） \\n第４７条  賃金は、労働者に対し、通貨で直接その全額を支払う。 \\n２ 前項について、労働者が同意した場合は、労働者本人の指定する金融機関の預貯金\\n口座又は証券総合口座へ振込により賃金を支払う。 \\n３ 次に掲げるものは、賃金から控除する。 \\n① 源泉所得税 \\n② 住民税 \\n③ 健康保険、厚生年金保険及び雇用保険の保険料の被保険者負担分 \\n④ 労働者代表との書面による協定により賃金から控除することとした社宅入居料、\\n財形貯蓄の積立金及び組合費 \\n \\n【第４７条  賃金の支払と控除】 \\n１ 賃金は、通貨で、直接労働者にその全額を支払わなければなりません（労基法第２４\\n条第１項）。ただし､所得税や住民税等法令に基づき労働者が負担すべきものについては、\\n賃金から控除することができます。また、労働者代表と書面で協定し、賃金から控除す\\nることができるとしたものも控除できます（労基法第２４条第１項）。ただし、労働者代\\n表との協定によって賃金から控除できるものは、購買代金、住宅・寮その他の福利厚生\\n施設の費用、各種生命・損害保険の保険料、組合費等内容が明白なものに限ります｡ \\n２ 賃金は、直接労働者に支払うことが原則です。しかし、労働者が同意した場合は、労\\n働者本人の指定する銀行等の金融機関の本人名義の口座に振り込むことが認められてい\\nます（労基則第７条の２）。 \\n \\n \\n \\n（賃金の非常時払い） \\n第４８条  労働者又はその収入によって生計を維持する者が、次のいずれかの場合に該\\n当し、そのために労働者から請求があったときは、賃金支払日前であっても、既往の\\n労働に対する賃金を支払う。 \\n① やむを得ない事由によって１週間以上帰郷する場合 \\n② 結婚又は死亡の場合 \\n③ 出産、疾病又は災害の場合 \\n④ 退職又は解雇により離職した場合', 'chunk_id': '77'}, {'file_name': 'src/search/data/モデル就業規則.pdf', 'text': '- 53 - \\n \\n \\n③ 深夜労働の割増賃金 \\n                                    \\n       日給        役付手当＋技能・資格手当＋精勤手当  \\n              ＋  \\n   １日の所定労働時間数      １か月の平均所定労働時間数        \\n                                    \\n             × 0.25 × 深夜労働の時間数 \\n \\n \\n（３）時間給制の場合 \\n① 時間外労働の割増賃金 \\n（時間外労働が 1 か月 45時間以下の部分） \\n                             \\n          役付手当＋技能・資格手当＋精勤手当  \\n   時間給 ＋                     \\n            １か月の平均所定労働時間数        \\n                             \\n         × 1.25 × 時間外労働の時間数 \\n \\n（時間外労働が 1 か月 45時間超～60 時間以下の部分） \\n                             \\n          役付手当＋技能・資格手当＋精勤手当  \\n   時間給 ＋                     \\n            １か月の平均所定労働時間数        \\n                             \\n         × 1.35 × 時間外労働の時間数 \\n \\n（時間外労働が 1 か月 60時間を超える部分) \\n                             \\n          役付手当＋技能・資格手当＋精勤手当  \\n   時間給 ＋                   \\n           １か月の平均所定労働時間数        \\n                             \\n         × 1.50 × 時間外労働の時間数 \\n \\n（時間外労働が 1年 360時間を超える部分) \\n                             \\n          役付手当＋技能・資格手当＋精勤手当', 'chunk_id': '62'}, {'file_name': 'src/search/data/モデル就業規則.pdf', 'text': '× 1.50 × 時間外労働の時間数 \\n \\n \\n(時間外労働が1 年360時間を超える部分） \\n                                    \\n       日給        役付手当＋技能・資格手当＋精勤手当  \\n              ＋  \\n１日の所定労働時間数      １か月の平均所定労働時間数        \\n                                    \\n             × 1.40 × 時間外労働の時間数 \\n \\n② 休日労働の割増賃金 \\n                                    \\n       日給        役付手当＋技能・資格手当＋精勤手当  \\n              ＋  \\n   １日の所定労働時間数      １か月の平均所定労働時間数        \\n                                    \\n             × 1.35 × 休日労働の時間数', 'chunk_id': '61'}]}, {'tool_type': 'cortex_analyst', 'tool_name': 'work_record_cortexanalyst', 'metadata': [{'Table': None}]}, {'tool_type': 'cortex_analyst', 'tool_name': 'work_record_cortexanalyst', 'metadata': [{'Table': 'cortex_agents_db.cortex_agents_schema.work_record'}]}]}\n"
     ]
    }
   ],
   "source": [
    "agent.initialize_tools()\n",
    "# response = agent.run(\"サンプル総研の４月の勤務時間が140時間を超えた社員はどの部署が最も多いですか？また1年目の有給は何日付与されますか？日本語で回答して\")\n",
    "response = agent.run(\"サンプル総研の従業員のうち、モデル就業規則の36協定超過の扱いに該当する社員を教えて。日本語で回答して\")"
   ]
  },
  {
   "cell_type": "code",
   "execution_count": 3,
   "id": "5ea407ac",
   "metadata": {},
   "outputs": [
    {
     "name": "stdout",
     "output_type": "stream",
     "text": [
      "4月の36協定に関する超過状況は以下の通りです：\n",
      "1. 月45時間超過している社員（12名）：\n",
      "- 井上翔（52時間）\n",
      "- 松田和也（51時間）\n",
      "- 山田太郎、加藤理央、川口雅人、黒田千尋、吉村大輝（各50時間）\n",
      "- 三浦亮太、松本樹（各48時間）\n",
      "- 沢田剛志（47時間）\n",
      "- 高橋健、大塚理恵（各46時間）\n",
      "\n",
      "2. 月100時間に近い社員：該当者なし\n",
      "\n",
      "※これらの社員については、健康管理の観点から労働時間の管理を徹底する必要があります。\n"
     ]
    }
   ],
   "source": [
    "print(response.output)"
   ]
  },
  {
   "cell_type": "code",
   "execution_count": null,
   "id": "f17b5cfd",
   "metadata": {},
   "outputs": [],
   "source": []
  }
 ],
 "metadata": {
  "kernelspec": {
   "display_name": "agent-gateway-2BYjXy1U-py3.10",
   "language": "python",
   "name": "python3"
  },
  "language_info": {
   "codemirror_mode": {
    "name": "ipython",
    "version": 3
   },
   "file_extension": ".py",
   "mimetype": "text/x-python",
   "name": "python",
   "nbconvert_exporter": "python",
   "pygments_lexer": "ipython3",
   "version": "3.10.13"
  }
 },
 "nbformat": 4,
 "nbformat_minor": 5
}
