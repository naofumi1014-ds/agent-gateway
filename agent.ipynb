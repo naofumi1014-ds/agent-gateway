{
 "cells": [
  {
   "cell_type": "code",
   "execution_count": 1,
   "id": "95c01f8c",
   "metadata": {},
   "outputs": [
    {
     "name": "stderr",
     "output_type": "stream",
     "text": [
      "2025-05-06 01:27:50,533 - snowflake.core._options - INFO - checked whether snowflake-snowpark-python is available: True\n",
      "2025-05-06 01:27:51,669 - snowflake.connector.connection - INFO - Snowflake Connector for Python Version: 3.14.1, Python Version: 3.10.13, Platform: Linux-5.15.167.4-microsoft-standard-WSL2-x86_64-with-glibc2.39\n",
      "2025-05-06 01:27:51,670 - snowflake.connector.connection - INFO - Connecting to GLOBAL Snowflake domain\n",
      "2025-05-06 01:28:04,178 - src.search.preprocess - INFO - Cortex Searchの作成が完了しました\n",
      "2025-05-06 01:28:04,179 - src.search.preprocess - INFO - Cortex Searchの作成が完了しました\n",
      "2025-05-06 01:28:04,181 - snowflake.connector.connection - INFO - Snowflake Connector for Python Version: 3.14.1, Python Version: 3.10.13, Platform: Linux-5.15.167.4-microsoft-standard-WSL2-x86_64-with-glibc2.39\n",
      "2025-05-06 01:28:04,183 - snowflake.connector.connection - INFO - Connecting to GLOBAL Snowflake domain\n",
      "2025-05-06 01:28:04,812 - snowflake.snowpark.session - INFO - Snowpark Session information: \n",
      "\"version\" : 1.30.0,\n",
      "\"python.version\" : 3.10.13,\n",
      "\"python.connector.version\" : 3.14.1,\n",
      "\"python.connector.session.id\" : 35541726253331574,\n",
      "\"os.name\" : Linux\n",
      "\n",
      "2025-05-06 01:28:04,813 - snowflake.core._root - INFO - New root object was created for <snowflake.snowpark.session.Session object at 0x7f736d944d90>\n",
      "2025-05-06 01:28:04,814 - snowflake.core._root - INFO - Querying the server for client info\n",
      "2025-05-06 01:28:05,107 - snowflake.core._internal.telemetry - INFO - telemetry client created for <snowflake.connector.connection.SnowflakeConnection object at 0x7f736e09bb80>, telemetry enabled: True\n",
      "2025-05-06 01:28:05,109 - snowflake.core._root - INFO - Snowflake Core version: 1.4.0, on Python 3.10.13, on platform: Linux-5.15.167.4-microsoft-standard-WSL2-x86_64-with-glibc2.39\n",
      "2025-05-06 01:28:05,109 - snowflake.core._root - INFO - Parameter SnowApiParameter.USE_CLIENT_RETRY: None\n",
      "2025-05-06 01:28:05,110 - snowflake.core._root - INFO - Parameter SnowApiParameter.PRINT_VERBOSE_STACK_TRACE: None\n",
      "2025-05-06 01:28:05,110 - snowflake.core._root - INFO - Parameter SnowApiParameter.FIX_HOSTNAME: true\n",
      "2025-05-06 01:28:05,111 - snowflake.core._root - INFO - Parameter SnowApiParameter.MAX_THREADS: None\n",
      "2025-05-06 01:28:05,111 - src.search.preprocess - INFO - Cortex Search Preprocessが完了しました\n",
      "2025-05-06 01:28:05,115 - snowflake.connector.connection - INFO - Snowflake Connector for Python Version: 3.14.1, Python Version: 3.10.13, Platform: Linux-5.15.167.4-microsoft-standard-WSL2-x86_64-with-glibc2.39\n",
      "2025-05-06 01:28:05,116 - snowflake.connector.connection - INFO - Connecting to GLOBAL Snowflake domain\n",
      "2025-05-06 01:28:07,133 - src.analyst.preprocess - INFO - Azure OpenAIを有効化しました\n",
      "2025-05-06 01:28:07,134 - src.analyst.preprocess - INFO - Cortex Analyst Preprocessが完了しました\n",
      "2025-05-06 01:28:07,137 - snowflake.connector.connection - INFO - Snowflake Connector for Python Version: 3.14.1, Python Version: 3.10.13, Platform: Linux-5.15.167.4-microsoft-standard-WSL2-x86_64-with-glibc2.39\n",
      "2025-05-06 01:28:07,137 - snowflake.connector.connection - INFO - Connecting to GLOBAL Snowflake domain\n",
      "2025-05-06 01:28:07,871 - snowflake.snowpark.session - INFO - Snowpark Session information: \n",
      "\"version\" : 1.30.0,\n",
      "\"python.version\" : 3.10.13,\n",
      "\"python.connector.version\" : 3.14.1,\n",
      "\"python.connector.session.id\" : 35541726253331578,\n",
      "\"os.name\" : Linux\n",
      "\n"
     ]
    }
   ],
   "source": [
    "from src.agent.agent import AgentGateway\n",
    "\n",
    "agent = AgentGateway()"
   ]
  },
  {
   "cell_type": "code",
   "execution_count": null,
   "id": "7dc9c0e7",
   "metadata": {},
   "outputs": [
    {
     "name": "stdout",
     "output_type": "stream",
     "text": [
      "2025-05-06 01:28:36,107 - AgentGatewayLogger - INFO - Cortex Search Tool successfully initialized\n",
      "2025-05-06 01:28:36,108 - AgentGatewayLogger - INFO - Cortex Analyst Tool successfully initialized\n",
      "2025-05-06 01:28:36,108 - AgentGatewayLogger - INFO - Cortex Analyst Tool successfully initialized\n",
      "2025-05-06 01:28:36,595 - AgentGatewayLogger - INFO - Cortex gateway successfully initialized\n"
     ]
    }
   ],
   "source": [
    "agent.initialize_tools()\n",
    "response = agent.run(\"サンプル総研の従業員は何人ですか？\")\n"
   ]
  },
  {
   "cell_type": "code",
   "execution_count": null,
   "id": "5ea407ac",
   "metadata": {},
   "outputs": [],
   "source": []
  }
 ],
 "metadata": {
  "kernelspec": {
   "display_name": "agent-gateway-2BYjXy1U-py3.10",
   "language": "python",
   "name": "python3"
  },
  "language_info": {
   "codemirror_mode": {
    "name": "ipython",
    "version": 3
   },
   "file_extension": ".py",
   "mimetype": "text/x-python",
   "name": "python",
   "nbconvert_exporter": "python",
   "pygments_lexer": "ipython3",
   "version": "3.10.13"
  }
 },
 "nbformat": 4,
 "nbformat_minor": 5
}
