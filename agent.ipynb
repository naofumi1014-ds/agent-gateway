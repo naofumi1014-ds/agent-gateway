{
 "cells": [
  {
   "cell_type": "code",
   "execution_count": 1,
   "id": "95c01f8c",
   "metadata": {},
   "outputs": [
    {
     "name": "stderr",
     "output_type": "stream",
     "text": [
      "2025-05-06 01:44:27,543 - snowflake.core._options - INFO - checked whether snowflake-snowpark-python is available: True\n",
      "2025-05-06 01:44:28,869 - snowflake.connector.connection - INFO - Snowflake Connector for Python Version: 3.14.1, Python Version: 3.10.13, Platform: Linux-5.15.167.4-microsoft-standard-WSL2-x86_64-with-glibc2.39\n",
      "2025-05-06 01:44:28,870 - snowflake.connector.connection - INFO - Connecting to GLOBAL Snowflake domain\n",
      "2025-05-06 01:45:09,115 - src.search.preprocess - INFO - Cortex Searchの作成が完了しました\n",
      "2025-05-06 01:45:09,116 - src.search.preprocess - INFO - Cortex Searchの作成が完了しました\n",
      "2025-05-06 01:45:09,117 - snowflake.connector.connection - INFO - Snowflake Connector for Python Version: 3.14.1, Python Version: 3.10.13, Platform: Linux-5.15.167.4-microsoft-standard-WSL2-x86_64-with-glibc2.39\n",
      "2025-05-06 01:45:09,118 - snowflake.connector.connection - INFO - Connecting to GLOBAL Snowflake domain\n",
      "2025-05-06 01:45:09,814 - snowflake.snowpark.session - INFO - Snowpark Session information: \n",
      "\"version\" : 1.30.0,\n",
      "\"python.version\" : 3.10.13,\n",
      "\"python.connector.version\" : 3.14.1,\n",
      "\"python.connector.session.id\" : 35541726253331618,\n",
      "\"os.name\" : Linux\n",
      "\n",
      "2025-05-06 01:45:09,815 - snowflake.core._root - INFO - New root object was created for <snowflake.snowpark.session.Session object at 0x7f53a9427df0>\n",
      "2025-05-06 01:45:09,815 - snowflake.core._root - INFO - Querying the server for client info\n",
      "2025-05-06 01:45:10,069 - snowflake.core._internal.telemetry - INFO - telemetry client created for <snowflake.connector.connection.SnowflakeConnection object at 0x7f53a9829090>, telemetry enabled: True\n",
      "2025-05-06 01:45:10,071 - snowflake.core._root - INFO - Snowflake Core version: 1.4.0, on Python 3.10.13, on platform: Linux-5.15.167.4-microsoft-standard-WSL2-x86_64-with-glibc2.39\n",
      "2025-05-06 01:45:10,072 - snowflake.core._root - INFO - Parameter SnowApiParameter.USE_CLIENT_RETRY: None\n",
      "2025-05-06 01:45:10,072 - snowflake.core._root - INFO - Parameter SnowApiParameter.PRINT_VERBOSE_STACK_TRACE: None\n",
      "2025-05-06 01:45:10,073 - snowflake.core._root - INFO - Parameter SnowApiParameter.FIX_HOSTNAME: true\n",
      "2025-05-06 01:45:10,073 - snowflake.core._root - INFO - Parameter SnowApiParameter.MAX_THREADS: None\n",
      "2025-05-06 01:45:10,074 - src.search.preprocess - INFO - Cortex Search Preprocessが完了しました\n",
      "2025-05-06 01:45:10,076 - snowflake.connector.connection - INFO - Snowflake Connector for Python Version: 3.14.1, Python Version: 3.10.13, Platform: Linux-5.15.167.4-microsoft-standard-WSL2-x86_64-with-glibc2.39\n",
      "2025-05-06 01:45:10,077 - snowflake.connector.connection - INFO - Connecting to GLOBAL Snowflake domain\n",
      "2025-05-06 01:45:12,478 - src.analyst.preprocess - INFO - Azure OpenAIを有効化しました\n",
      "2025-05-06 01:45:12,480 - src.analyst.preprocess - INFO - Cortex Analyst Preprocessが完了しました\n",
      "2025-05-06 01:45:12,482 - snowflake.connector.connection - INFO - Snowflake Connector for Python Version: 3.14.1, Python Version: 3.10.13, Platform: Linux-5.15.167.4-microsoft-standard-WSL2-x86_64-with-glibc2.39\n",
      "2025-05-06 01:45:12,483 - snowflake.connector.connection - INFO - Connecting to GLOBAL Snowflake domain\n",
      "2025-05-06 01:45:13,197 - snowflake.snowpark.session - INFO - Snowpark Session information: \n",
      "\"version\" : 1.30.0,\n",
      "\"python.version\" : 3.10.13,\n",
      "\"python.connector.version\" : 3.14.1,\n",
      "\"python.connector.session.id\" : 35541726253351818,\n",
      "\"os.name\" : Linux\n",
      "\n"
     ]
    }
   ],
   "source": [
    "from src.agent.agent import AgentGateway\n",
    "\n",
    "agent = AgentGateway()"
   ]
  },
  {
   "cell_type": "code",
   "execution_count": 2,
   "id": "7dc9c0e7",
   "metadata": {},
   "outputs": [
    {
     "name": "stderr",
     "output_type": "stream",
     "text": [
      "2025-05-06 01:45:15,252 - src.agent.agent - INFO - {'semantic_model': 'work_record.yaml', 'stage': 'WORK_RECORD_STAGE', 'service_topic': 'サンプル総研の従業員の4月の勤怠に関する集計データ', 'data_description': '４月の従業員の勤怠データ（部署、勤務時間、残業時間、勤務理由）', 'snowflake_connection': <snowflake.snowpark.session.Session object at 0x7f53a8b46080>, 'max_results': 5}\n"
     ]
    },
    {
     "name": "stdout",
     "output_type": "stream",
     "text": [
      "2025-05-06 01:45:15,253 - AgentGatewayLogger - INFO - Cortex Search Tool successfully initialized\n",
      "2025-05-06 01:45:15,254 - AgentGatewayLogger - INFO - Cortex Analyst Tool successfully initialized\n",
      "2025-05-06 01:45:15,822 - AgentGatewayLogger - INFO - Cortex gateway successfully initialized\n",
      "2025-05-06 01:45:18,971 - AgentGatewayLogger - INFO - running work_record_cortexanalyst task\n"
     ]
    },
    {
     "name": "stderr",
     "output_type": "stream",
     "text": [
      "2025-05-06 01:45:28,616 - src.agent.agent - INFO - {'output': 'The total overtime hours for the employees of サンプル総研 in April is 1996 hours.', 'sources': [{'tool_type': 'cortex_analyst', 'tool_name': 'work_record_cortexanalyst', 'metadata': [{'Table': 'cortex_agents_db.cortex_agents_schema.work_record'}]}]}\n"
     ]
    }
   ],
   "source": [
    "agent.initialize_tools()\n",
    "response = agent.run(\"サンプル総研の従業員の4月の勤怠に関する集計データから、残業時間を集計して\")\n"
   ]
  },
  {
   "cell_type": "code",
   "execution_count": null,
   "id": "5ea407ac",
   "metadata": {},
   "outputs": [],
   "source": []
  }
 ],
 "metadata": {
  "kernelspec": {
   "display_name": "agent-gateway-2BYjXy1U-py3.10",
   "language": "python",
   "name": "python3"
  },
  "language_info": {
   "codemirror_mode": {
    "name": "ipython",
    "version": 3
   },
   "file_extension": ".py",
   "mimetype": "text/x-python",
   "name": "python",
   "nbconvert_exporter": "python",
   "pygments_lexer": "ipython3",
   "version": "3.10.13"
  }
 },
 "nbformat": 4,
 "nbformat_minor": 5
}
