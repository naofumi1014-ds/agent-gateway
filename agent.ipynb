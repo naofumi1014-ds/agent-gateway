{
 "cells": [
  {
   "cell_type": "code",
   "execution_count": 1,
   "id": "95c01f8c",
   "metadata": {},
   "outputs": [
    {
     "name": "stderr",
     "output_type": "stream",
     "text": [
      "2025-05-07 10:28:32,023 - snowflake.core._options - INFO - checked whether snowflake-snowpark-python is available: True\n",
      "2025-05-07 10:28:33,113 - snowflake.connector.connection - INFO - Snowflake Connector for Python Version: 3.14.1, Python Version: 3.10.13, Platform: Linux-5.15.167.4-microsoft-standard-WSL2-x86_64-with-glibc2.39\n",
      "2025-05-07 10:28:33,114 - snowflake.connector.connection - INFO - Connecting to GLOBAL Snowflake domain\n",
      "2025-05-07 10:28:45,148 - src.search.preprocess - INFO - Cortex Searchの作成が完了しました\n",
      "2025-05-07 10:28:45,149 - src.search.preprocess - INFO - Cortex Searchの作成が完了しました\n",
      "2025-05-07 10:28:45,151 - snowflake.connector.connection - INFO - Snowflake Connector for Python Version: 3.14.1, Python Version: 3.10.13, Platform: Linux-5.15.167.4-microsoft-standard-WSL2-x86_64-with-glibc2.39\n",
      "2025-05-07 10:28:45,151 - snowflake.connector.connection - INFO - Connecting to GLOBAL Snowflake domain\n",
      "2025-05-07 10:28:46,192 - snowflake.snowpark.session - INFO - Snowpark Session information: \n",
      "\"version\" : 1.30.0,\n",
      "\"python.version\" : 3.10.13,\n",
      "\"python.connector.version\" : 3.14.1,\n",
      "\"python.connector.session.id\" : 35541726253357974,\n",
      "\"os.name\" : Linux\n",
      "\n",
      "2025-05-07 10:28:46,193 - snowflake.core._root - INFO - New root object was created for <snowflake.snowpark.session.Session object at 0x7f7f685f5ba0>\n",
      "2025-05-07 10:28:46,194 - snowflake.core._root - INFO - Querying the server for client info\n",
      "2025-05-07 10:28:46,573 - snowflake.core._internal.telemetry - INFO - telemetry client created for <snowflake.connector.connection.SnowflakeConnection object at 0x7f7f68a04220>, telemetry enabled: True\n",
      "2025-05-07 10:28:46,575 - snowflake.core._root - INFO - Snowflake Core version: 1.4.0, on Python 3.10.13, on platform: Linux-5.15.167.4-microsoft-standard-WSL2-x86_64-with-glibc2.39\n",
      "2025-05-07 10:28:46,576 - snowflake.core._root - INFO - Parameter SnowApiParameter.USE_CLIENT_RETRY: None\n",
      "2025-05-07 10:28:46,576 - snowflake.core._root - INFO - Parameter SnowApiParameter.PRINT_VERBOSE_STACK_TRACE: None\n",
      "2025-05-07 10:28:46,576 - snowflake.core._root - INFO - Parameter SnowApiParameter.FIX_HOSTNAME: true\n",
      "2025-05-07 10:28:46,577 - snowflake.core._root - INFO - Parameter SnowApiParameter.MAX_THREADS: None\n",
      "2025-05-07 10:28:46,578 - src.search.preprocess - INFO - Cortex Search Preprocessが完了しました\n",
      "2025-05-07 10:28:46,580 - snowflake.connector.connection - INFO - Snowflake Connector for Python Version: 3.14.1, Python Version: 3.10.13, Platform: Linux-5.15.167.4-microsoft-standard-WSL2-x86_64-with-glibc2.39\n",
      "2025-05-07 10:28:46,580 - snowflake.connector.connection - INFO - Connecting to GLOBAL Snowflake domain\n",
      "2025-05-07 10:28:49,178 - src.analyst.preprocess - INFO - Azure OpenAIを有効化しました\n",
      "2025-05-07 10:28:49,179 - src.analyst.preprocess - INFO - Cortex Analyst Preprocessが完了しました\n",
      "2025-05-07 10:28:49,180 - snowflake.connector.connection - INFO - Snowflake Connector for Python Version: 3.14.1, Python Version: 3.10.13, Platform: Linux-5.15.167.4-microsoft-standard-WSL2-x86_64-with-glibc2.39\n",
      "2025-05-07 10:28:49,181 - snowflake.connector.connection - INFO - Connecting to GLOBAL Snowflake domain\n",
      "2025-05-07 10:28:50,075 - snowflake.snowpark.session - INFO - Snowpark Session information: \n",
      "\"version\" : 1.30.0,\n",
      "\"python.version\" : 3.10.13,\n",
      "\"python.connector.version\" : 3.14.1,\n",
      "\"python.connector.session.id\" : 35541726253400834,\n",
      "\"os.name\" : Linux\n",
      "\n"
     ]
    }
   ],
   "source": [
    "from src.agent.agent import AgentGateway\n",
    "\n",
    "agent = AgentGateway()"
   ]
  },
  {
   "cell_type": "code",
   "execution_count": 1,
   "id": "7dc9c0e7",
   "metadata": {},
   "outputs": [
    {
     "name": "stderr",
     "output_type": "stream",
     "text": [
      "2025-05-23 15:09:06,748 - snowflake.core._options - INFO - checked whether snowflake-snowpark-python is available: True\n",
      "2025-05-23 15:09:09,191 - snowflake.connector.connection - INFO - Snowflake Connector for Python Version: 3.14.1, Python Version: 3.10.13, Platform: Linux-5.15.167.4-microsoft-standard-WSL2-x86_64-with-glibc2.39\n",
      "2025-05-23 15:09:09,193 - snowflake.connector.connection - INFO - Connecting to GLOBAL Snowflake domain\n",
      "2025-05-23 15:09:16,352 - src.search.preprocess - INFO - Cortex Searchの作成が完了しました\n",
      "2025-05-23 15:09:16,353 - src.search.preprocess - INFO - Cortex Searchの作成が完了しました\n",
      "2025-05-23 15:09:16,356 - snowflake.connector.connection - INFO - Snowflake Connector for Python Version: 3.14.1, Python Version: 3.10.13, Platform: Linux-5.15.167.4-microsoft-standard-WSL2-x86_64-with-glibc2.39\n",
      "2025-05-23 15:09:16,357 - snowflake.connector.connection - INFO - Connecting to GLOBAL Snowflake domain\n",
      "2025-05-23 15:09:17,023 - snowflake.snowpark.session - INFO - Snowpark Session information: \n",
      "\"version\" : 1.30.0,\n",
      "\"python.version\" : 3.10.13,\n",
      "\"python.connector.version\" : 3.14.1,\n",
      "\"python.connector.session.id\" : 35541726254608882,\n",
      "\"os.name\" : Linux\n",
      "\n",
      "2025-05-23 15:09:17,025 - snowflake.core._root - INFO - New root object was created for <snowflake.snowpark.session.Session object at 0x7f807e3b6a10>\n",
      "2025-05-23 15:09:17,027 - snowflake.core._root - INFO - Querying the server for client info\n",
      "2025-05-23 15:09:17,320 - snowflake.core._internal.telemetry - INFO - telemetry client created for <snowflake.connector.connection.SnowflakeConnection object at 0x7f807e3b5510>, telemetry enabled: True\n",
      "2025-05-23 15:09:17,322 - snowflake.core._root - INFO - Snowflake Core version: 1.4.0, on Python 3.10.13, on platform: Linux-5.15.167.4-microsoft-standard-WSL2-x86_64-with-glibc2.39\n",
      "2025-05-23 15:09:17,325 - snowflake.core._root - INFO - Parameter SnowApiParameter.USE_CLIENT_RETRY: None\n",
      "2025-05-23 15:09:17,332 - snowflake.core._root - INFO - Parameter SnowApiParameter.PRINT_VERBOSE_STACK_TRACE: None\n",
      "2025-05-23 15:09:17,335 - snowflake.core._root - INFO - Parameter SnowApiParameter.FIX_HOSTNAME: true\n",
      "2025-05-23 15:09:17,336 - snowflake.core._root - INFO - Parameter SnowApiParameter.MAX_THREADS: None\n",
      "2025-05-23 15:09:17,340 - src.search.preprocess - INFO - Cortex Search Preprocessが完了しました\n",
      "2025-05-23 15:09:17,352 - snowflake.connector.connection - INFO - Snowflake Connector for Python Version: 3.14.1, Python Version: 3.10.13, Platform: Linux-5.15.167.4-microsoft-standard-WSL2-x86_64-with-glibc2.39\n",
      "2025-05-23 15:09:17,353 - snowflake.connector.connection - INFO - Connecting to GLOBAL Snowflake domain\n",
      "2025-05-23 15:09:18,919 - src.analyst.preprocess - INFO - テーブル products は存在します。\n",
      "2025-05-23 15:09:19,744 - src.analyst.preprocess - INFO - Azure OpenAIを有効化しました\n",
      "2025-05-23 15:09:20,681 - src.analyst.preprocess - INFO - ステージ CORTEX_ANALYST_STAGE を作成しました\n",
      "2025-05-23 15:09:20,683 - src.analyst.preprocess - INFO - Cortex Analyst Preprocessが完了しました\n",
      "2025-05-23 15:09:20,691 - snowflake.connector.connection - INFO - Snowflake Connector for Python Version: 3.14.1, Python Version: 3.10.13, Platform: Linux-5.15.167.4-microsoft-standard-WSL2-x86_64-with-glibc2.39\n",
      "2025-05-23 15:09:20,695 - snowflake.connector.connection - INFO - Connecting to GLOBAL Snowflake domain\n",
      "2025-05-23 15:09:21,444 - snowflake.snowpark.session - INFO - Snowpark Session information: \n",
      "\"version\" : 1.30.0,\n",
      "\"python.version\" : 3.10.13,\n",
      "\"python.connector.version\" : 3.14.1,\n",
      "\"python.connector.session.id\" : 35541726254608890,\n",
      "\"os.name\" : Linux\n",
      "\n"
     ]
    },
    {
     "name": "stdout",
     "output_type": "stream",
     "text": [
      "2025-05-23 15:09:21,448 - AgentGatewayLogger - INFO - Python Tool successfully initialized\n",
      "2025-05-23 15:09:21,449 - AgentGatewayLogger - INFO - Cortex Search Tool successfully initialized\n",
      "2025-05-23 15:09:21,451 - AgentGatewayLogger - INFO - Cortex Analyst Tool successfully initialized\n",
      "2025-05-23 15:09:23,263 - AgentGatewayLogger - INFO - Cortex gateway successfully initialized\n",
      "2025-05-23 15:09:27,570 - AgentGatewayLogger - INFO - running cortex_search_svc_cortexsearch task\n"
     ]
    },
    {
     "name": "stderr",
     "output_type": "stream",
     "text": [
      "2025-05-23 15:09:42,034 - src.agent.agent - INFO - {'output': 'サンプルテックの2025年度第1四半期経営計画は以下の通りです：\\n\\n**会社概要**\\n- 社名：株式会社サンプルテック\\n- 設立：2010年6月\\n- 所在地：東京都渋谷区\\n- 従業員数：120名\\n- 事業内容：スマート家電・生活用品の製造・販売\\n\\n**経営ビジョン**\\n- ビジョン：『生活を豊かにするスマートソリューションの提供』\\n\\n**市場動向分析**\\n- スマートホーム関連製品の需要が急速に拡大\\n- IoT対応家電市場は年率15%で成長\\n- 海外市場（北米・欧州）では高品質・環境配慮型製品のニーズが高まっている\\n\\n**実行ロードマップ**\\n- 4-5月：ECサイトUXリニューアル開始\\n- 5-6月：海外パートナー契約締結\\n- 6-7月：新製品海外向けリリース\\n- 7-9月：ショールーム第2号店オープン\\n\\n**リスク管理**\\n- 為替変動リスク：ヘッジ戦略の実施\\n- 物流遅延リスク：複数ルートの確保\\n- 競合製品リスク：差別化開発による対応\\n\\n**戦略**\\n- 国内外での販売拡大\\n- アジア新興国での代理店網構築\\n- 海外市場向け製品ラインナップのローカライズ\\n- 非構造化データを活用した意思決定基盤の整備\\n\\n4月から海外市場への本格展開を開始し、売上増加を確認。今後は国内外の施策を同時並行で推進し、年間を通じた成長を目指しています。', 'sources': [{'tool_type': 'cortex_search', 'tool_name': 'cortex_search_svc_cortexsearch', 'metadata': [{'file_name': '/home/naofumi1014/agent-gateway/src/search/data/サンプルテック_2025年度_第1四半期_経営計画.pdf', 'text': '社名：株式会社サンプルテック \\n設立：2010 年 6 月 \\n所在地：東京都渋谷区 \\n従業員数：120 名 \\n事業内容：スマート家電・生活用品の製造・販売 \\n \\n3. 市場動向分析', 'chunk_id': '2'}, {'file_name': '/home/naofumi1014/agent-gateway/src/search/data/サンプルテック_2025年度_第1四半期_経営計画.pdf', 'text': '小売業としての強みを活かし、国内外での販売拡大を図るとともに、非構造化データを活\\n用した意思決定基盤の整備を推進する。 \\n \\n2. 会社概要 \\n社名：株式会社サンプルテック', 'chunk_id': '1'}, {'file_name': '/home/naofumi1014/agent-gateway/src/search/data/サンプルテック_2025年度_第1四半期_経営計画.pdf', 'text': '2025 年度 第 1 四半期 経営計画 \\n \\n1. はじめに \\n本ドキュメントは、2025 年度第 1 四半期における当社の経営計画を示すものである。製造', 'chunk_id': '0'}, {'file_name': '/home/naofumi1014/agent-gateway/src/search/data/サンプルテック_2025年度_第1四半期_経営計画.pdf', 'text': 'のニーズが高まっている。 \\n \\n4. 経営ビジョン・ミッション \\nビジョン： 『生活を豊かにするスマートソリューションの提供』', 'chunk_id': '4'}, {'file_name': '/home/naofumi1014/agent-gateway/src/search/data/サンプルテック_2025年度_第1四半期_経営計画.pdf', 'text': '- 物流遅延リスク：複数ルートの確保 \\n- 競合製品リスク：差別化開発による対応 \\n \\n9. 結論 \\n4 月から本格的に海外市場へのリーチを開始し、その結果として売上増加が確認できた。', 'chunk_id': '11'}, {'file_name': '/home/naofumi1014/agent-gateway/src/search/data/サンプルテック_2025年度_第1四半期_経営計画.pdf', 'text': '6‒7 月：新製品海外向けリリース \\n7‒9 月：ショールーム第 2 号店オープン \\n \\n8. リスク管理 \\n- 為替変動リスク：ヘッジ戦略の実施 \\n- 物流遅延リスク：複数ルートの確保', 'chunk_id': '10'}, {'file_name': '/home/naofumi1014/agent-gateway/src/search/data/サンプルテック_2025年度_第1四半期_経営計画.pdf', 'text': '7. 実行ロードマップ \\n4‒5 月：EC サイト UX リニューアル開始 \\n5‒6 月：海外パートナー契約締結 \\n6‒7 月：新製品海外向けリリース', 'chunk_id': '9'}, {'file_name': '/home/naofumi1014/agent-gateway/src/search/data/サンプルテック_2025年度_第1四半期_経営計画.pdf', 'text': '今後は国内外の施策を同時並行で推進し、年間を通じた成長を目指す。', 'chunk_id': '12'}, {'file_name': '/home/naofumi1014/agent-gateway/src/search/data/サンプルテック_2025年度_第1四半期_経営計画.pdf', 'text': '- アジア新興国での代理店網構築 \\n- 海外市場向け製品ラインナップのローカライズ', 'chunk_id': '7'}, {'file_name': '/home/naofumi1014/agent-gateway/src/search/data/サンプルテック_2025年度_第1四半期_経営計画.pdf', 'text': '3. 市場動向分析 \\n近年、スマートホーム関連製品の需要が急速に拡大しており、特に IoT 対応家電市場は年\\n率 15%で成長している。また、海外市場では北米・欧州を中心に高品質・環境配慮型製品', 'chunk_id': '3'}]}]}\n"
     ]
    }
   ],
   "source": [
    "from src.agent.agent import AgentGateway\n",
    "\n",
    "agent = AgentGateway()\n",
    "agent.initialize_tools()\n",
    "response = agent.run(\"\"\"サンプルテックの経営計画を教えて\"\"\")\n"
   ]
  },
  {
   "cell_type": "code",
   "execution_count": null,
   "id": "2885f72d",
   "metadata": {},
   "outputs": [
    {
     "name": "stdout",
     "output_type": "stream",
     "text": [
      "4月の勤務時間が140時間を超えた社員は57名おり、最も残業が多い部署は開発部です。開発部で残業が多い理由は、新規プロジェクトの立ち上げ対応、納期前の仕様変更、技術調査とコードレビュー、フレームワーク移行、リリース準備等の業務が重なったためです。また、1年目の社員（入社後6ヶ月経過し、所定労働日の8割以上出勤した場合）には10日の年次有給休暇が付与されます。\n"
     ]
    }
   ],
   "source": [
    "print(response.output)\n",
    "\n",
    "\"\"\"\n",
    "4月の勤務時間が140時間を超えた社員は57名おり、最も残業が多い部署は開発部です。\n",
    "開発部で残業が多い理由は、新規プロジェクトの立ち上げ対応、納期前の仕様変更、技術調査とコードレビュー、フレームワーク移行、リリース準備等の業務が重なったためです。\n",
    "また、1年目の社員（入社後6ヶ月経過し、所定労働日の8割以上出勤した場合）には10日の年次有給休暇が付与されます。\n",
    "\"\"\"\n"
   ]
  },
  {
   "cell_type": "code",
   "execution_count": null,
   "id": "f17b5cfd",
   "metadata": {},
   "outputs": [
    {
     "name": "stdout",
     "output_type": "stream",
     "text": [
      "2025-05-07 10:26:26,026 - AgentGatewayLogger - INFO - Cortex gateway successfully initialized\n"
     ]
    }
   ],
   "source": [
    "agent.initialize_tools()\n",
    "response = agent.run(\"サンプル総研の従業員のうち、モデル就業規則の36協定超過の扱いに該当する社員とその理由を教えて。\")"
   ]
  },
  {
   "cell_type": "code",
   "execution_count": 6,
   "id": "b4f740e6",
   "metadata": {},
   "outputs": [
    {
     "name": "stdout",
     "output_type": "stream",
     "text": [
      "2025-05-07 10:33:48,298 - AgentGatewayLogger - INFO - Python Tool successfully initialized\n",
      "2025-05-07 10:33:48,299 - AgentGatewayLogger - INFO - Cortex Search Tool successfully initialized\n",
      "2025-05-07 10:33:48,300 - AgentGatewayLogger - INFO - Cortex Analyst Tool successfully initialized\n",
      "2025-05-07 10:33:49,625 - AgentGatewayLogger - INFO - Cortex gateway successfully initialized\n",
      "2025-05-07 10:33:58,385 - AgentGatewayLogger - INFO - running html_crawl task\n",
      "2025-05-07 10:33:58,387 - AgentGatewayLogger - INFO - running work_rules_of_employment_search_svc_cortexsearch task\n"
     ]
    },
    {
     "name": "stderr",
     "output_type": "stream",
     "text": [
      "2025-05-07 10:34:15,265 - src.agent.agent - INFO - {'output': '育児休業に関する規定の主なポイントは以下の通りです：\\n\\n1. 育児休業、出生時育児休業、介護休業、子の看護休暇等の制度が利用可能です。\\n\\n2. 1歳未満の子を養育する女性労働者は、1日2回、各30分の育児時間を取得できます。\\n\\n3. 育児時間の取得を理由とした解雇や不利益な取り扱いは禁止されています。\\n\\n4. 具体的な育児・介護休業等の取り扱いは、別途「育児・介護休業等に関する規則」で定められています。\\n\\n5. 人事異動を行う際は、労働者の育児や介護の状況に配慮する必要があります。', 'sources': [{'tool_type': 'custom_tool', 'tool_name': 'html_crawl', 'metadata': [{'python_tool': 'html_crawl tool'}]}, {'tool_type': 'cortex_search', 'tool_name': 'work_rules_of_employment_search_svc_cortexsearch', 'metadata': [{'file_name': 'src/search/data/モデル就業規則.pdf', 'text': '- 38 - \\n \\n第５章 休暇等  \\n \\n年次有給休暇等法定の休暇のみならず、会社で設けている休暇については就業規則に必\\nず定めることが必要です。 \\n \\n（年次有給休暇） \\n第２３条  採用日から６か月間継続勤務し、所定労働日の８割以上出勤した労働者に対\\nしては、１０日の年次有給休暇を与える。その後１年間継続勤務するごとに、当該１\\n年間において所定労働日の８割以上出勤した労働者に対しては、下の表のとおり勤続\\n期間に応じた日数の年次有給休暇を与える。 \\n \\n勤続期間 6 か月 \\n１年    \\n6 か月 \\n2 年  \\n6 か月 \\n3 年 \\n6 か月 \\n4 年 \\n6 か月 \\n5 年  \\n6 か月 \\n6 年 \\n6 か月以上 \\n付与日数 10 日 11 日 12 日 14 日 16 日 18 日 20 日 \\n \\n２ 前項の規定にかかわらず、週所定労働時間３０時間未満であり、かつ、週所定労働\\n日数が４日以下（週以外の期間によって所定労働日数を定める労働者については年間\\n所定労働日数が２１６日以下）の労働者に対しては、下の表のとおり所定労働日数及\\nび勤続期間に応じた日数の年次有給休暇を与える。 \\n \\n週所定\\n労働\\n日数 \\n1 年間の \\n所定労働日数 \\n勤    続    期    間 \\n6か月 \\n1 年 \\n6か月 \\n2 年 \\n6か月 \\n3 年 \\n6か月 \\n4 年 \\n6か月 \\n5 年 \\n6か月 \\n6 年 \\n6 か月 \\n以上 \\n4 日 169 日～216 日 7 日 8 日 9 日 10 日 12 日 13 日 15 日 \\n3 日 121 日～168 日 5 日 6 日 6 日 8 日 9 日 10 日 11 日 \\n2 日 73 日～120日 3 日 4 日 4 日 5 日 6 日 6 日 7 日 \\n1 日 48 日～72日 1 日 2 日 2 日 2 日 3 日 3 日 3 日 \\n \\n３ 第１項又は第２項の年次有給休暇は、労働者があらかじめ請求する時季に取得させ\\nる。ただし、労働者が請求した時季に年次有給休暇を取得させることが事業の正常な\\n運営を妨げる場合は、他の時季に取得させることがある。 \\n４ 前項の規定にかかわらず、労働者代表との書面による協定により、各労働者の有す\\nる年次有給休暇日数のうち５日を超える部分について、あらかじめ時季を指定して取\\n得させることがある。', 'chunk_id': '43'}, {'file_name': 'src/search/data/モデル就業規則.pdf', 'text': '- 44 - \\n \\n（育児時間及び生理休暇） \\n第２７条  １歳に満たない子を養育する女性労働者から請求があったときは、休憩時間\\nのほか１日について２回、１回について３０分の育児時間を与える。 \\n２ 生理日の就業が著しく困難な女性労働者から請求があったときは、必要な期間休暇\\nを与える。 \\n \\n【第２７条  育児時間及び生理休暇】 \\n１ 育児時間については、生後満１年に達しない子を育てている女性労働者から請求があ\\nった場合は、授乳その他育児のための時間を、一般の休憩時間とは別に、１日２回各々\\n少なくとも３０分の時間を与えなければなりません（労基法第６７条)。育児時間を請求\\nし、又は取得したことを理由として解雇その他不利益な取扱いをしてはいけません（均\\n等法第９条第３項）。 \\n２ 生理日の就業が著しく困難な女性労働者が休暇を請求した場合、請求のあった期間は\\n当該女性労働者を就業させてはなりません（労基法第６８条）。なお、休暇は暦日単位の\\nほか半日単位、時間単位でもあっても差し支えありません。 \\n \\n \\n（育児・介護休業、子の看護休暇等） \\n第２８条  労働者のうち必要のある者は、育児・介護休業法に基づく育児休業、出生時\\n育児休業、介護休業、子の看護休暇、介護休暇、育児・介護のための所定外労働、時\\n間外労働及び深夜業の制限並びに所定労働時間の短縮措置等（以下「育児・介護休業\\n等」という。）の適用を受けることができる。 \\n２ 育児・介護休業等の取扱いについては、「育児・介護休業等に関する規則」で定める。 \\n \\n【第２８条  育児・介護休業、子の看護休暇等】 \\n１ 育児・介護休業、子の看護休暇等に関する事項について、本規程例では就業規則本体\\nとは別に定める形式をとっています。 \\n「育児・介護休業法について」は、こちらになります。規程例もこちらからご覧になれ\\nます。 \\n「育児・介護休業法について」のＵＲＬ： \\nhttp://www.mhlw.go.jp/stf/seisakunitsuite/bunya/0000130583.html \\n \\n２ 育児・介護休業、子の看護休暇等に関する事項について、就業規則本体と別に定めた\\n場合、当該規程も就業規則の一部になりますので、所轄労働基準監督署長への届出が必\\n要となります。', 'chunk_id': '52'}, {'file_name': 'src/search/data/モデル就業規則.pdf', 'text': '- 41 - \\n \\n１１ 本条第４項に定める年次有給休暇の計画的付与制度とは、労働者代表との間で労使\\n協定を結んだ場合、最低５日間は労働者が自由に取得できる日数として残し、５日を超\\nえる部分について、協定で年次有給休暇を与える時季を定めて労働者に計画的に取得さ\\nせるものです（労基法第３９条第６項）。 \\n１２ 年次有給休暇を取得した労働者に対して、賃金の減額や精皆勤手当、賞与の額の算\\n定に際しての年次有給休暇取得日を欠勤として取扱う等の不利益な取扱いをしてはいけ\\nません（労基法附則第１３６条）。 \\n \\n \\n（年次有給休暇の時間単位での付与 ） \\n第２４条  労働者代表との書面による協定に基づき、前条の年次有給休暇の日数のう\\nち、１年について５日の範囲で次により時間単位の年次有給休暇（以下「時間単位年\\n休」という。）を付与する。 \\n（１）時間単位年休付与の対象者は、すべての労働者とする。 \\n（２）時間単位年休を取得する場合の、１日の年次有給休暇に相当する時間数は、以\\n下のとおりとする。 \\n① 所定労働時間が５ 時間を超え６ 時間以下の者…６ 時間 \\n② 所定労働時間が６ 時間を超え７ 時間以下の者…７ 時間 \\n③ 所定労働時間が７ 時間を超え８ 時間以下の者…８ 時間 \\n（３）時間単位年休は１時間単位で付与する。 \\n（４）本条の時間単位年休に支払われる賃金額は、所定労働時間労働した場合に支払\\nわれる通常の賃金の１時間当たりの額に、取得した時間単位年休の時間数を乗じ\\nた額とする。 \\n（５）上記以外の事項については、前条の年次有給休暇と同様とする。 \\n \\n【第２４条  年次有給休暇の時間単位での付与】 \\n１ 労使協定を締結すれば、年に５日を限度として、時間単位で年次有給休暇を与えるこ\\nとができます（労基法第３９条第４項）。 \\n２ 時間単位年休の１時間分の賃金額は、①平均賃金、②所定労働時間労働した場合に支\\n払われる通常の賃金、③健康保険法第４０条第１項に定める標準報酬月額を３０分の１\\nに相当する額（１の位は四捨五入）（ただし、③については労働者代表との書面による協\\n定が必要です。）をその日の所定労働時間で除した額になります。①～③のいずれにする\\nかは、就業規則等に定めることが必要です（労基法第３９条第７項）。 \\n３ 労使協定に規定しなければならない内容は次のとおりです。', 'chunk_id': '48'}, {'file_name': 'src/search/data/モデル就業規則.pdf', 'text': '- 25 - \\n \\n（イ）番方編成による交替制によることが就業規則等により定められており、制度と\\nして運用されていること。 \\n（ロ）各番方の交替が規則的に定められているものであって、勤務割表等によりその\\n都度設定されるものではないこと。 \\n３ 本条第２項において定めている、いわゆる「振替休日」とは、例えば業務の都合によ\\nって所定休日である日曜日に勤務させなければならない場合に、当該日曜日を勤務日に\\n変更し、その代わり勤務日である例えば月曜日を休日とするように、所定の休日とあら\\nかじめ他の勤務日と振り替えることをいいます。 \\nまた、｢代休｣とは、休日に休日労働を行わせた場合に、その代わりに以後の特定の勤\\n務日又は労働者の希望する任意の勤務日の労働義務を免除し、休みを与える制度のこと\\nをいいます。振替休日と代休の労基法上での取扱いの違いは次のとおりです。 \\n \\n「労働基準法上の振替休日と代休の取扱いの違い」 \\n①  振替休日は、あらかじめ定められた法定休日を他の日に振り替えることですから、\\n振替前の休日に勤務しても通常の勤務と同じです。したがって、休日労働に対する割\\n増賃金の問題は発生しませんが、振り替えた休日が週をまたがった場合、振替勤務し\\nたことにより、当該週の実労働時間が週の法定労働時間を超える場合があります。そ\\nの場合は時間外労働に対する割増賃金の支払が必要となります。 \\nその一方で、代休は、定められた法定休日に休日労働を行わせた場合ですから、そ\\nの後に代休を与えても休日労働をさせたことが帳消しにされるものではありません\\nので、休日労働に対する割増賃金を支払う必要があります。 \\n②  休日は労働者の労働義務のない日ですから、これを振り替える場合は、以下に示す\\n措置が必要となります。 \\nア 就業規則に振替休日の規程を置くこと。 \\nイ 振替休日は特定すること。 \\nウ 振替休日は４週４日の休日が確保される範囲のできるだけ近接した日とするこ \\nと。 \\nエ 振替は前日までに通知すること。 \\n \\n \\n〔例２〕１か月単位の変形労働時間制（隔週週休２日制を採用する場合）の規程例 \\n \\n〔例２〕は、１か月単位の変形労働時間制（変形期間は２週間）を活用しつつ、隔週で\\nの週休２日制で、毎日の所定労働時間を７時間１５分とすることにより、週４０時間労\\n働制を実施する場合の規程例です。', 'chunk_id': '27'}, {'file_name': 'src/search/data/モデル就業規則.pdf', 'text': '払われる通常の賃金、③健康保険法第４０条第１項に定める標準報酬月額を３０分の１\\nに相当する額（１の位は四捨五入）（ただし、③については労働者代表との書面による協\\n定が必要です。）をその日の所定労働時間で除した額になります。①～③のいずれにする\\nかは、就業規則等に定めることが必要です（労基法第３９条第７項）。 \\n３ 労使協定に規定しなければならない内容は次のとおりです。 \\n① 時間単位年休の対象労働者の範囲（対象となる労働者の範囲を定めます。） \\n② 時間単位年休の日数（５日以内の範囲で定めます。前年度からの繰越しがある場合', 'chunk_id': '49'}, {'file_name': 'src/search/data/モデル就業規則.pdf', 'text': '- 15 - \\n \\n【第８条  人事異動】 \\n １ 労働者を採用した後、会社が業務上の理由から就業場所や従事する業務を変更する\\nことは、変更がない旨の特別な合意等がない限り可能です。しかしながら、労働者の\\n意に沿わない就業場所等の変更を命じた場合、トラブルが生じ得ますので、本規則の\\nように就業規則に明記しておくことが望ましいと言えます。もちろん、労働者の同意\\nを得るようにすることが大切であることは言うまでもありません。 \\n   なお、労働者の就業場所を変更しようとする場合には、労働者の育児や介護の状況\\nに配慮しなければなりません（育児休業、介護休業等育児又は家族介護を行う労働者\\nの福祉に関する法律（平成３年法律第７６号。以下「育児・介護休業法」といいます。）\\n第２６条） \\n２ また、他の会社へ出向させることが想定される場合、出向に関する規定を設けてお\\nく必要があります。 \\n \\n \\n \\n（休職） \\n第９条  労働者が、次のいずれかに該当するときは、所定の期間休職とする。 \\n① 業務外の傷病による欠勤が  か月を超え、なお療養を継続する必要があるため\\n勤務できないとき                          年以内 \\n② 前号のほか、特別な事情があり休職させることが適当と認められるとき \\n                                 必要な期間 \\n２ 休職期間中に休職事由が消滅したときは、原則として元の職務に復帰させる。ただ\\nし、元の職務に復帰させることが困難又は不適当な場合には、他の職務に就かせるこ\\nとがある。 \\n３ 第１項第１号により休職し、休職期間が満了してもなお傷病が治癒せず就業が困難\\nな場合は、休職期間の満了をもって退職とする。 \\n \\n【第９条  休職】 \\n１ 休職とは、業務外での疾病等主に労働者側の個人的事情により相当長期間にわたり就\\n労を期待し得ない場合に、労働者としての身分を保有したまま一定期間就労義務を免除\\nする特別な扱いをいいます。なお、本条第１項第２号の「特別な事情」には、公職への\\n就任や刑事事件で起訴された場合等が当たります。 \\n２ 休職期間中に休職事由がなくなった場合は、当然に休職が解除され復職となります。 \\n３ 休職の定義、休職期間の制限、復職等については、労基法に定めはありません。', 'chunk_id': '15'}, {'file_name': 'src/search/data/モデル就業規則.pdf', 'text': '- 83 - \\n \\n２ 国の直営事業及び官公署の事業（労基法別表第１に掲げる事業を除きます。）を除き、\\n労働者を使用するすべての会社は、労災保険に加入しなければなりません（ただし、労\\n働者数５人未満の個人経営の農林水産の事業（業務災害の発生のおそれが多いものとし\\nて厚生労働大臣が定めるものを除きます。）については、任意適用となっています。）。 \\n３ 労災保険の適用事業場の労働者であれば、パートタイム労働者や臨時社員等、名称及\\nび雇用形態にかかわらず、すべて労災保険が適用されます。', 'chunk_id': '105'}, {'file_name': 'src/search/data/モデル就業規則.pdf', 'text': '× 1.50 × 時間外労働の時間数 \\n \\n \\n(時間外労働が1 年360時間を超える部分） \\n                                    \\n       日給        役付手当＋技能・資格手当＋精勤手当  \\n              ＋  \\n１日の所定労働時間数      １か月の平均所定労働時間数        \\n                                    \\n             × 1.40 × 時間外労働の時間数 \\n \\n② 休日労働の割増賃金 \\n                                    \\n       日給        役付手当＋技能・資格手当＋精勤手当  \\n              ＋  \\n   １日の所定労働時間数      １か月の平均所定労働時間数        \\n                                    \\n             × 1.35 × 休日労働の時間数', 'chunk_id': '61'}, {'file_name': 'src/search/data/モデル就業規則.pdf', 'text': '- 66 - \\n \\n第７章  定年、退職及び解雇 \\n \\n退職に関する事項は、就業規則の絶対的必要記載事項に当たります。そして、労基法第\\n８９条の退職に関する事項とは、任意退職、解雇、契約期間の満了による退職等労働者が\\nその身分を失うすべての場合に関する事項をいうと解されています。 \\n \\n［例１］ 定年を満７０歳とする例 \\n（定年等） \\n第５１条  労働者の定年は、満７０歳とし、定年に達した日の属する月の末日をもって\\n退職とする。 \\n \\n \\n［例 2］ 定年を満６５歳とし、その後希望者を継続雇用する例 \\n（定年等） \\n第５１条  労働者の定年は、満６５歳とし、定年に達した日の属する月の末日をもって\\n退職とする。 \\n２ 前項の規定にかかわらず、定年後も引き続き雇用されることを希望し、解雇事由又\\nは退職事由に該当しない労働者については、満７０歳までこれを継続雇用する。 \\n \\n \\n［例３］ 定年を満６０歳とし、その後希望者を継続雇用する例（満６５歳以降は対象者\\n基準あり） \\n（定年等） \\n第５１条  労働者の定年は、満６０歳とし、定年に達した日の属する月の末日をもっ\\nて退職とする。 \\n２ 前項の規定にかかわらず、定年後も引き続き雇用されることを希望し、解雇事由 \\n又は退職事由に該当しない労働者については、満６５歳までこれを継続雇用する。 \\n３ 前項の規定に基づく継続雇用の満了後に、引き続き雇用されることを希望し、解\\n雇事由又は退職事由に該当しない労働者のうち、次の各号に掲げる基準のいずれに\\nも該当する者については、満７０歳までこれを継続雇用する。 \\n（１）過去○年間の人事考課が○以上である者 \\n（２）過去○年間の出勤率が○％以上である者 \\n（３）過去○年間の定期健康診断結果を産業医が判断し、業務上、支障がないと認\\nめられた者', 'chunk_id': '80'}, {'file_name': 'src/search/data/モデル就業規則.pdf', 'text': '１か月の平均所定労働時間数        \\n                             \\n         × 1.50 × 時間外労働の時間数 \\n \\n（時間外労働が 1年 360時間を超える部分) \\n                             \\n          役付手当＋技能・資格手当＋精勤手当  \\n   時間給 ＋                     \\n           １か月の平均所定労働時間数        \\n                             \\n         × 1.40 × 時間外労働の時間数', 'chunk_id': '63'}]}]}\n"
     ]
    }
   ],
   "source": [
    "agent.initialize_tools()\n",
    "response = agent.run(\"育児休業に関する規定として　https://www.psrn.jp/topics/detail.php?id=32765　の記載内容をまとめて。\")"
   ]
  }
 ],
 "metadata": {
  "kernelspec": {
   "display_name": "agent-gateway-2BYjXy1U-py3.10",
   "language": "python",
   "name": "python3"
  },
  "language_info": {
   "codemirror_mode": {
    "name": "ipython",
    "version": 3
   },
   "file_extension": ".py",
   "mimetype": "text/x-python",
   "name": "python",
   "nbconvert_exporter": "python",
   "pygments_lexer": "ipython3",
   "version": "3.10.13"
  }
 },
 "nbformat": 4,
 "nbformat_minor": 5
}
